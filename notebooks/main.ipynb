{
 "cells": [
  {
   "cell_type": "markdown",
   "metadata": {},
   "source": [
    "# textgenrnn\n",
    "\n",
    "* https://github.com/minimaxir/textgenrnn\n",
    "* https://github.com/minimaxir/textgenrnn/blob/master/docs/textgenrnn-demo.ipynb"
   ]
  },
  {
   "cell_type": "code",
   "execution_count": 1,
   "metadata": {},
   "outputs": [],
   "source": [
    "import sys, os\n",
    "import pandas as pd"
   ]
  },
  {
   "cell_type": "code",
   "execution_count": 2,
   "metadata": {},
   "outputs": [],
   "source": [
    "data_folder = '/media/student/8d1913cf-1155-47a5-a7db-b9a51f445d8f/student/data'"
   ]
  },
  {
   "cell_type": "code",
   "execution_count": 3,
   "metadata": {},
   "outputs": [
    {
     "data": {
      "text/plain": [
       "True"
      ]
     },
     "execution_count": 3,
     "metadata": {},
     "output_type": "execute_result"
    }
   ],
   "source": [
    "os.path.exists(data_folder)"
   ]
  },
  {
   "cell_type": "code",
   "execution_count": 4,
   "metadata": {},
   "outputs": [
    {
     "data": {
      "text/plain": [
       "['yelp_dataset',\n",
       " 'business.csv',\n",
       " 'jigsaw-toxic-comment-classification-challenge.zip',\n",
       " 'restaurants.csv',\n",
       " 'restaurant_reviews.csv',\n",
       " 'review.csv']"
      ]
     },
     "execution_count": 4,
     "metadata": {},
     "output_type": "execute_result"
    }
   ],
   "source": [
    "os.listdir(data_folder)"
   ]
  },
  {
   "cell_type": "code",
   "execution_count": 6,
   "metadata": {},
   "outputs": [],
   "source": [
    "reviews = pd.read_csv(data_folder + '/restaurant_reviews.csv', nrows=100000)"
   ]
  },
  {
   "cell_type": "code",
   "execution_count": 7,
   "metadata": {},
   "outputs": [
    {
     "data": {
      "text/html": [
       "<div>\n",
       "<style scoped>\n",
       "    .dataframe tbody tr th:only-of-type {\n",
       "        vertical-align: middle;\n",
       "    }\n",
       "\n",
       "    .dataframe tbody tr th {\n",
       "        vertical-align: top;\n",
       "    }\n",
       "\n",
       "    .dataframe thead th {\n",
       "        text-align: right;\n",
       "    }\n",
       "</style>\n",
       "<table border=\"1\" class=\"dataframe\">\n",
       "  <thead>\n",
       "    <tr style=\"text-align: right;\">\n",
       "      <th></th>\n",
       "      <th>Unnamed: 0</th>\n",
       "      <th>business_id</th>\n",
       "      <th>stars</th>\n",
       "      <th>text</th>\n",
       "    </tr>\n",
       "  </thead>\n",
       "  <tbody>\n",
       "    <tr>\n",
       "      <th>0</th>\n",
       "      <td>3</td>\n",
       "      <td>ikCg8xy5JIg_NGPx-MSIDA</td>\n",
       "      <td>5.0</td>\n",
       "      <td>Went in for a lunch. Steak sandwich was delici...</td>\n",
       "    </tr>\n",
       "    <tr>\n",
       "      <th>1</th>\n",
       "      <td>5</td>\n",
       "      <td>eU_713ec6fTGNO4BegRaww</td>\n",
       "      <td>4.0</td>\n",
       "      <td>I'll be the first to admit that I was not exci...</td>\n",
       "    </tr>\n",
       "    <tr>\n",
       "      <th>2</th>\n",
       "      <td>6</td>\n",
       "      <td>3fw2X5bZYeW9xCz_zGhOHg</td>\n",
       "      <td>3.0</td>\n",
       "      <td>Tracy dessert had a big name in Hong Kong and ...</td>\n",
       "    </tr>\n",
       "    <tr>\n",
       "      <th>3</th>\n",
       "      <td>7</td>\n",
       "      <td>zvO-PJCpNk4fgAVUnExYAA</td>\n",
       "      <td>1.0</td>\n",
       "      <td>This place has gone down hill.  Clearly they h...</td>\n",
       "    </tr>\n",
       "    <tr>\n",
       "      <th>4</th>\n",
       "      <td>10</td>\n",
       "      <td>8mIrX_LrOnAqWsB5JrOojQ</td>\n",
       "      <td>4.0</td>\n",
       "      <td>Like walking back in time, every Saturday morn...</td>\n",
       "    </tr>\n",
       "  </tbody>\n",
       "</table>\n",
       "</div>"
      ],
      "text/plain": [
       "   Unnamed: 0             business_id  stars  \\\n",
       "0           3  ikCg8xy5JIg_NGPx-MSIDA    5.0   \n",
       "1           5  eU_713ec6fTGNO4BegRaww    4.0   \n",
       "2           6  3fw2X5bZYeW9xCz_zGhOHg    3.0   \n",
       "3           7  zvO-PJCpNk4fgAVUnExYAA    1.0   \n",
       "4          10  8mIrX_LrOnAqWsB5JrOojQ    4.0   \n",
       "\n",
       "                                                text  \n",
       "0  Went in for a lunch. Steak sandwich was delici...  \n",
       "1  I'll be the first to admit that I was not exci...  \n",
       "2  Tracy dessert had a big name in Hong Kong and ...  \n",
       "3  This place has gone down hill.  Clearly they h...  \n",
       "4  Like walking back in time, every Saturday morn...  "
      ]
     },
     "execution_count": 7,
     "metadata": {},
     "output_type": "execute_result"
    }
   ],
   "source": [
    "reviews.head()"
   ]
  },
  {
   "cell_type": "code",
   "execution_count": 8,
   "metadata": {},
   "outputs": [
    {
     "data": {
      "text/plain": [
       "(100000, 4)"
      ]
     },
     "execution_count": 8,
     "metadata": {},
     "output_type": "execute_result"
    }
   ],
   "source": [
    "reviews.shape"
   ]
  },
  {
   "cell_type": "code",
   "execution_count": 9,
   "metadata": {},
   "outputs": [],
   "source": [
    "restaurants = pd.read_csv(data_folder + '/restaurants.csv')"
   ]
  },
  {
   "cell_type": "code",
   "execution_count": 10,
   "metadata": {},
   "outputs": [
    {
     "data": {
      "text/html": [
       "<div>\n",
       "<style scoped>\n",
       "    .dataframe tbody tr th:only-of-type {\n",
       "        vertical-align: middle;\n",
       "    }\n",
       "\n",
       "    .dataframe tbody tr th {\n",
       "        vertical-align: top;\n",
       "    }\n",
       "\n",
       "    .dataframe thead th {\n",
       "        text-align: right;\n",
       "    }\n",
       "</style>\n",
       "<table border=\"1\" class=\"dataframe\">\n",
       "  <thead>\n",
       "    <tr style=\"text-align: right;\">\n",
       "      <th></th>\n",
       "      <th>Unnamed: 0</th>\n",
       "      <th>business_id</th>\n",
       "      <th>name</th>\n",
       "      <th>categories</th>\n",
       "    </tr>\n",
       "  </thead>\n",
       "  <tbody>\n",
       "    <tr>\n",
       "      <th>0</th>\n",
       "      <td>1</td>\n",
       "      <td>QXAEGFB4oINsVuTFxEYKFQ</td>\n",
       "      <td>Emerald Chinese Restaurant</td>\n",
       "      <td>Specialty Food, Restaurants, Dim Sum, Imported...</td>\n",
       "    </tr>\n",
       "    <tr>\n",
       "      <th>1</th>\n",
       "      <td>2</td>\n",
       "      <td>gnKjwL_1w79qoiV3IC_xQQ</td>\n",
       "      <td>Musashi Japanese Restaurant</td>\n",
       "      <td>Sushi Bars, Restaurants, Japanese</td>\n",
       "    </tr>\n",
       "    <tr>\n",
       "      <th>2</th>\n",
       "      <td>11</td>\n",
       "      <td>1Dfx3zM-rW4n-31KeC8sJg</td>\n",
       "      <td>Taco Bell</td>\n",
       "      <td>Restaurants, Breakfast &amp; Brunch, Mexican, Taco...</td>\n",
       "    </tr>\n",
       "    <tr>\n",
       "      <th>3</th>\n",
       "      <td>13</td>\n",
       "      <td>fweCYi8FmbJXHCqLnwuk8w</td>\n",
       "      <td>Marco's Pizza</td>\n",
       "      <td>Italian, Restaurants, Pizza, Chicken Wings</td>\n",
       "    </tr>\n",
       "    <tr>\n",
       "      <th>4</th>\n",
       "      <td>17</td>\n",
       "      <td>PZ-LZzSlhSe9utkQYU8pFg</td>\n",
       "      <td>Carluccio's Tivoli Gardens</td>\n",
       "      <td>Restaurants, Italian</td>\n",
       "    </tr>\n",
       "  </tbody>\n",
       "</table>\n",
       "</div>"
      ],
      "text/plain": [
       "   Unnamed: 0             business_id                         name  \\\n",
       "0           1  QXAEGFB4oINsVuTFxEYKFQ   Emerald Chinese Restaurant   \n",
       "1           2  gnKjwL_1w79qoiV3IC_xQQ  Musashi Japanese Restaurant   \n",
       "2          11  1Dfx3zM-rW4n-31KeC8sJg                    Taco Bell   \n",
       "3          13  fweCYi8FmbJXHCqLnwuk8w                Marco's Pizza   \n",
       "4          17  PZ-LZzSlhSe9utkQYU8pFg   Carluccio's Tivoli Gardens   \n",
       "\n",
       "                                          categories  \n",
       "0  Specialty Food, Restaurants, Dim Sum, Imported...  \n",
       "1                  Sushi Bars, Restaurants, Japanese  \n",
       "2  Restaurants, Breakfast & Brunch, Mexican, Taco...  \n",
       "3         Italian, Restaurants, Pizza, Chicken Wings  \n",
       "4                               Restaurants, Italian  "
      ]
     },
     "execution_count": 10,
     "metadata": {},
     "output_type": "execute_result"
    }
   ],
   "source": [
    "restaurants.head()"
   ]
  },
  {
   "cell_type": "code",
   "execution_count": 11,
   "metadata": {},
   "outputs": [],
   "source": [
    "review = pd.read_csv(data_folder + '/review.csv', nrows=100000)"
   ]
  },
  {
   "cell_type": "code",
   "execution_count": 13,
   "metadata": {},
   "outputs": [
    {
     "name": "stderr",
     "output_type": "stream",
     "text": [
      "Using TensorFlow backend.\n"
     ]
    }
   ],
   "source": [
    "from textgenrnn import textgenrnn\n",
    "textgen = textgenrnn()"
   ]
  },
  {
   "cell_type": "code",
   "execution_count": 14,
   "metadata": {},
   "outputs": [
    {
     "name": "stderr",
     "output_type": "stream",
     "text": [
      " 20%|██        | 1/5 [00:00<00:03,  1.19it/s]"
     ]
    },
    {
     "name": "stdout",
     "output_type": "stream",
     "text": [
      "/r/partying & steals on Randram in a week and wiped by a friend for a cool treat.\n",
      "\n"
     ]
    },
    {
     "name": "stderr",
     "output_type": "stream",
     "text": [
      "\r",
      " 40%|████      | 2/5 [00:01<00:02,  1.47it/s]"
     ]
    },
    {
     "name": "stdout",
     "output_type": "stream",
     "text": [
      "Reddit in the street and starts with a memory.\n",
      "\n"
     ]
    },
    {
     "name": "stderr",
     "output_type": "stream",
     "text": [
      "\r",
      " 60%|██████    | 3/5 [00:01<00:01,  1.55it/s]"
     ]
    },
    {
     "name": "stdout",
     "output_type": "stream",
     "text": [
      "John Camp in a specific country complete and original and this is what you get two years.\n",
      "\n"
     ]
    },
    {
     "name": "stderr",
     "output_type": "stream",
     "text": [
      "\r",
      " 80%|████████  | 4/5 [00:03<00:00,  1.01it/s]"
     ]
    },
    {
     "name": "stdout",
     "output_type": "stream",
     "text": [
      "A stranger that you have a good substitute of that things that are an acquiring quit the first time really they have been an accident and I see yourself to be all the new school straight that was a gun in a bank to the best side programming and for the ended urparation of store are the birthday and\n",
      "\n"
     ]
    },
    {
     "name": "stderr",
     "output_type": "stream",
     "text": [
      "\r",
      "100%|██████████| 5/5 [00:04<00:00,  1.15it/s]"
     ]
    },
    {
     "name": "stdout",
     "output_type": "stream",
     "text": [
      "Black Cops out of the strange of the stripes. I have some story of the same videos the craft of life.\n",
      "\n"
     ]
    },
    {
     "name": "stderr",
     "output_type": "stream",
     "text": [
      "\n"
     ]
    }
   ],
   "source": [
    "textgen.generate(5)"
   ]
  },
  {
   "cell_type": "code",
   "execution_count": 19,
   "metadata": {},
   "outputs": [],
   "source": [
    "texts = reviews[reviews.stars == 1.0]['text'].values[:20]"
   ]
  },
  {
   "cell_type": "code",
   "execution_count": 20,
   "metadata": {},
   "outputs": [
    {
     "data": {
      "text/plain": [
       "array([\"This place has gone down hill.  Clearly they have cut back on staff and food quality\\r\\n\\r\\nMany of the reviews were written before the menu changed.  I've been going for years and the food quality has gone down hill.\\r\\n\\r\\nThe service is slow & my salad, which was $15, was as bad as it gets.\\r\\n\\r\\nIt's just not worth spending the money on this place when there are so many other options.\",\n",
       "       \"Walked in around 4 on a Friday afternoon, we sat at a table just off the bar and walked out after 5 min or so. Don't even think they realized we walked in. However everyone at the bar noticed we walked in!!! Service was non existent at best. Not a good way for a new business to start out. Oh well, the location they are at has been about 5 different things over the past several years, so they will just be added to the list. SMDH!!!\",\n",
       "       \"I cannot believe how things have changed in 3 years. I picked up duck congee sometime in the winter when my hubby was sick.  I was very disappointed because the ginger fish sauce tasted like it had gone bad (it should never be bitter).  Today, my hubby wanted to eat there since he was craving the duck congee and most places don't serve the duck & coleslaw side. We waited about 10 minutes to get our menu.  After we placed our orders, we waited another 5 minutes to get the tea that most places bring with the menu.  I could go on with the details but the gist of the story is they were understaffed or the staff was slow.  The worst part of it was that the service.  The servers make us feel bad for asking for anything (like when they took our order).  We had arrived and placed our order before another couple bside us at least 10 minutes ahead but somehow, this couple received their pho before mine.  They were almost done eating their pho before mine came out.\",\n",
       "       'if i can give this place no stars i would, i only had their hot pot though, so im not a good judge for anything besides their shabu. i must say, quantity was small, price is expensive for the quality and quantity, and the taste of the soup base is bland as if they just put hot water in. the sauce selection is limited and not very fresh/clean from my perspective. i love hot pot and i would never go back again because home made hot pot can be much better than this place without even trying. anyways, if you have a good appetite for hot pot, you can do yourself a favor and skip this place because it can make you miserable!',\n",
       "       'Love this place downtown but the Scottsdale location has no manners. Sat at bar for 10 min while bartender ignored us. No menu, no water. We walked out and they could have cared less.',\n",
       "       \"Came here on a Thursday night at 6:30 p.m. My friends and I had a reservation, but it was not needed - the place was almost empty.\\r\\n\\r\\nSERVICE: Extremely Poor\\r\\n\\r\\nWhile I enjoyed the company of my friends, I would not come back to this restaurant, primarily because of the poor service. Once we were all seated, we were not greeted by anyone for over half an hour, and when someone did come by, we asked whether we could place our orders, to which he said he could not; he's doing something else - so we waited at least another 15 minutes before someone came to finally take our orders. \\r\\n\\r\\nMAIN: Caprese Salad\\r\\n\\r\\nThe salad was okay - a bit salty for my liking. I personally did not find this dish filling, so I ordered the sweet potato fries as well (See below).\\r\\n\\r\\nMAIN: Sweet Potato Fries (this was worth it) \\r\\n\\r\\nThese fries were actually very delicious - crispy on the outside and soft on the inside. If you visit this restaurant, I would recommend this particular dish, especially given the price ($8) and the portion size (it was quite large - almost the size of a large plate).\",\n",
       "       \"Met a friend for dinner there tonight. The server only brought us one menu. After she brought us a couple of Cokes she didn't come to our table for 20 mins. After trying to get her attention a few times when she walked by we decided to just order off the bartender. We received the starters and the mains at the same time. The wings, brisket, and mac and cheese were alright at best. At this point we hadn't seen the server since she brought the food, so we had to go to the bar for more napkins and refills on the Cokes. The most we actually saw our server was when she hovered over us as we put the tip into the handheld credit card terminal. \\r\\n\\r\\nFood was somewhere between okay and decent. Service was somewhere between piss poor and terrible.\",\n",
       "       \"We had dinner at the Bellagio Buffet last night. The service was OK. Our server was great but kind of forgot about us towards the end of our visit. The food was cold. The only good thing there was the crab legs because they're suppose to be cold and the tacos because it was freshly made. The food was under a single lamp that didn't heat the food at all. We let the server know that the food was cold and he told the manager that was in charge. All she did was come over to ask what the problem was and said she was going to talk to the chief. Have no idea what actually happened though because we didn't see her after that. Half the buffet was closed as well so there wasn't that many options. I must say i rather go to the Rio buffet. For a high end casino this was a horrible experience.\",\n",
       "       'Th service here is very hit or miss... Sometimes the staff is personable and attentive. Other times I ask myself, \"Why do I come here???\" The staff often has the  \"GTFOH\" stamp placed permanently across their foreheads, and we as patrons just have to go with it, otherwise we are deemed \"that guy.\"  I would say that my continuos visits were for the great HH, but there are several other options close to home, with the same food and drink options for me to choose from. I think today may be last visit...',\n",
       "       \"I took my wife out for a Birthday dinner with my daughter on 12-16-14  at Alfonsos.  I heard the food was good and it was and my waitress ( Dawn ) was also good ( even with it being very busy ). The problem I have is some of the waitress staff are rude. I had a gift card/ certificate to pay for dinner. After a few minutes, a big blond waitress came over and said  ( in a loud and rude tone ) I couldn't use it cause I needed to spend $100.00 in order to get $50.00 off. She then insulted me by saying (so the tables around me could hear ) couldn't I read the fine print telling me of requirements to use gift card. I showed her the certificate and the fine print was not legible She told me, sorry that's not our fault it's yours and she walked away. I am having second thoughts about going back to use gift card. I may give it away or toss it out.\",\n",
       "       \"Dreadful Service\\r\\n\\r\\nI've had Jimmy John's before several years ago in Minneapolis.. But apparently here in Phoenix, the store personnel must be trained differently. I had to take my sandwich back up to the counter twice to get the thick headed folks working at the one on Camelback at about 16th to get my sandwich the way I wanted it.\\r\\n\\r\\nI asked for a #10 Hunter's Club with all the veggies. What I got was the standard #10 Hunters Club with lettuce and tomatoes. \\r\\n\\r\\nAfter seeing that, I took it back up to the counter, and explained that I wanted all the veggies. They explained to me that those were all the veggies the sandwich came with. I carefully explained that I wanted all of the veggies that they have. The guy said, oh, you want the Freebies. I would have thought he would have clarified when I ordered whether I just wanted everything that came on the sandwich, or the Freebies as well. I said yes, I wanted all of the Freebie Veggies. \\r\\n\\r\\nI took my revised sandwich and sat down to eat it, only to find that along with the veggies I had requested, they had piled on Italian vinaigrette and Dijon mustard, which I did NOT want.\",\n",
       "       \"I was told so many great things about this place but my entire experience was awful. The food wasn't very good, way too greasy. My fries were luke warm and my tray was literally covered in grease. I needed about 50 napkins and a shower after that. The service was pretty awful too. I can't believe I paid $14 for a small meal with no extra fixings. On national cheeseburger day of all days too. Such a disappointment and I've never gone back since. Best thing about it was the soda, but that's pretty difficult to mess up.\",\n",
       "       \"I have no idea what the owner's problem is, but he's incredibly rude. His wife, on the other hand is super nice (an odd mix).\\r\\n\\r\\nGreat space, rude owner and the coffee is average.\",\n",
       "       'the few times i ordered from here i was greatly disappointed. freezer burned strawberry ice cream, microwaved food and run of the mill breakfast.',\n",
       "       \"Was very excited for happy hour and heard great things. Food was less then average we were charged $10 for BREAD.  Most apps were greasy or fried and still spent $250 on happy hour menu for a group of 4. First review on yelp so cared enough to take the time to write this. Sorry won't come back.\",\n",
       "       \"Also don't believe when they say they will give you a credit for unsatisfactory meal because for some reason they have a tendency to forget they said it.  They no longer have to worry about my business.\",\n",
       "       'I hope that every person who follows me, everyone I know and anyone contemplating this establishment reads this first and NEVER bothers to give this place with the crappiest staff of all time a second thought. Earlier today my friend and I dropped in to grab some lunch.. the staff either all lost their dogs this morning, or just have the absolute worst attitudes you\\'ve ever seen in human beings. Not only was the nasty woman who served me avoiding any type of pleasantry but she was yelling across two other workers and a line of patrons asking what I wanted from the other end of the shop. When I asked the server for lettuce, onion and roasted red peppers on my sandwich she quite literally moaned very loud and followed it with yelling \"ughhhhh god help me!\" Before adding my toppings to my turkey sandwich. When one of the other servers asked us if our food was for \"here or to go\" the original server says aloudly \"to-go hopefully!!!\" Wtf... I\\'d love to know who this terrible human being thinks she is! I found my jaw on the floor more than once, wondered why she thought I was such a headache, and my friend and I decided right there that we would NEVER return nor would we let this review go untold to everyone we know!! I feel the owners somehow have to be to blame! How the hell do you allow someone so miserable represent your livelihood? You don\\'t expect livelihood for very much longer, that\\'s how. \\r\\nPs... maybe this server will look a little less \"I just woke up\" at her next job.',\n",
       "       \"As soon as I parked my car, this rude elderly lady comes out saying these parking spaces are reserved...I UNDERSTAND AND CAN READ THAT ON YOUR SIGN lady.  Just because my other family members are dinning at Hong Kong Garden for Dim Sum does not automatically mean that EVERYONE is looking to eat there.  I was and had a craving for deli sandwiches in which I did ended up walking in to purchase 2 as planned (receipt still in hand).  Don't go around assuming and start off with horrible service.  I ended up keeping my car parked there the WHOLE afternoon taking a space just because that lady was rude.  \\r\\n***Also would be nice to offer water for your customer that is waiting for his to-go order***\",\n",
       "       \"I am so blown away by this sophisticated & beautiful hotel. One of the best in Las Vegas. The decor is breathe taking, and this place always smell like a magical garden. With so many top notch restaurants, spa services, shows, and clubs to choose from. It's vegas luxury! The last time I stayed here, July 2011, it was such a BIG disappointment. There was a total of 8 of us. One of the bed broke and fell flat to the floor (no, there were no foul play)! 6 out 8 of us left with some kind of bug bite that looks like a terrible case of eczema/rash! The mechanic curtain didn't work. The main T.V. didn't work. Actually, disappointed is an understatement, WE WERE DISGUSTED! How can this 5star resort & hotel failed us so miserably!!!!!? \\r\\n\\r\\n(please view pictures of rash)\",\n",
       "       \"So I've been coming here for years and have never had any issues until today. I ordered what I've always ordered. A bean burrito, a taco and a drink. It cost over $9 dollars!! The lady didn't tell me a price in the drive through which is annoying because they don't have a screen that tells you. She asked if I wanted a bean and cheese burrito. Well obviously I said yes I want cheese in it. The price on the menu said it was like $2.50. There was no mention of cheese in my burrito costing more. So I pull up to the window and she tells me it will be $9.40 or whatever. I said, I'm sorry how much?? So I'm sitting there doing my own math and it still didn't add up. $2.09 for a drink, $2 something for the taco and $2 something for the burrito. Even with tax there was absolutely no way that it would have added up to that much. So I get the receipt and they charged me $4.58 for a burrito!! There sign said $2 something. I pulled around and went in and their price inside said $3 something for the burrito. I went up and asked why I was overcharged $4.58 for a burrito. He said because I got cheese in it. I said, your burritos don't come with cheese in them??? They always have and I've never been charged extra for it!! What place doesn't put cheese in a burrito?? Also, for the first time their taco was bad. I opened the box and the taco shell was wet and soggy!! Usually it's nice and crispy/crunchy and this time was not. I told them their signs are wrong. Also that it's ridiculous you charge that much for a burrito with cheese!! Told them I will never be back!! I can get better food at Taco Bell and more food for the same price!! They don't false advertise there either! Furious!  Their food and prices have gone downhill fast! They lost mine and my family's business for good!!\"],\n",
       "      dtype=object)"
      ]
     },
     "execution_count": 20,
     "metadata": {},
     "output_type": "execute_result"
    }
   ],
   "source": [
    "texts"
   ]
  },
  {
   "cell_type": "code",
   "execution_count": 22,
   "metadata": {},
   "outputs": [
    {
     "name": "stdout",
     "output_type": "stream",
     "text": [
      "Training on 13,829 character sequences.\n",
      "Epoch 1/2\n",
      "108/108 [==============================] - 25s 232ms/step - loss: 1.1690\n",
      "Epoch 2/2\n",
      "108/108 [==============================] - 26s 243ms/step - loss: 0.9851\n",
      "####################\n",
      "Temperature: 0.2\n",
      "####################\n",
      "I was and I was a little the food on the food and the food was a burrito and the food was a broke that they were all the food was a burrito and the food was as well. I wanted all of the burrito and she was a good terrible the same thing there are to the beach since for a longer and the food was and\n",
      "\n",
      "I wanted all of this place of the sandwich was a burrito and the food was good because the sandwich was the food and the same time was a terrible sandwiches the food and the food was a bar for the food was a beautiful the food was a burrito and I wanted all of the food was a terrible for a bar was \n",
      "\n",
      "I was told to get our the sandwich for the server was a bad for a burrito. I wanted a good their said $10 for a burrito. I was told to the food was the food was a bean on the same time that the food was a bean on the food was a burrito and the food was a burrito and the food was a burrito because t\n",
      "\n",
      "####################\n",
      "Temperature: 0.5\n",
      "####################\n",
      "I wanted all of the time to the sandwich staff and the food was a tea the best we are  Believe I Belied in the best and the mains not food that we asked in the food was the great things the food was something we wanted me!!! I couldn't I see this place was a bricket and the food and the same parker\n",
      "\n",
      "I just worked away or to go over the best. I was asked to the sandwich that I've got their bushere ( Believe the staff of the burrito, at the food and they were a time I would came our for the service. I would have a terry sandwich and we asked for the best and the food.  The service was something \n",
      "\n",
      "I wanted to ye or a sandwich for this price is our services. After senden for a server or anything that the same sandwich couple has the owners are the mill they are rude and the food was and she was to the food the food for a server for a burrito. I said yes I've ever got our and I've never gone a\n",
      "\n",
      "####################\n",
      "Temperature: 1.0\n",
      "####################\n",
      "Clime disappointed about that headed for a poor so faive 50 and before comes food to soon rude. good there was cole morning the food about this politificate and doings away and didn't fell me! \n",
      "\n",
      "Don't go as weeker With the salad costing meal for meruction, water who 10 minutes look at Nork & service.  absolute even send quaniones from the Berible Juds with a 100. Help hears for Diven to get the time the riven us. The food that no meel, well, out 8 vilidhy! There here.  The beach was a slaf\n",
      "\n",
      "i ordery I decided afternooned this phober, we reforge 1 obleating nood service... I to get a longer the floor of a pretty disappointed a waitress and they caub places being our that. I wanted about came about say for something like for said (i break)  Telling Fred and nice to get personable if her\n",
      "\n"
     ]
    }
   ],
   "source": [
    "textgen.train_on_texts(texts, num_epochs=2, gen_epochs=2)"
   ]
  },
  {
   "cell_type": "code",
   "execution_count": null,
   "metadata": {},
   "outputs": [],
   "source": []
  }
 ],
 "metadata": {
  "kernelspec": {
   "display_name": "Python 3",
   "language": "python",
   "name": "python3"
  },
  "language_info": {
   "codemirror_mode": {
    "name": "ipython",
    "version": 3
   },
   "file_extension": ".py",
   "mimetype": "text/x-python",
   "name": "python",
   "nbconvert_exporter": "python",
   "pygments_lexer": "ipython3",
   "version": "3.6.8"
  }
 },
 "nbformat": 4,
 "nbformat_minor": 2
}
