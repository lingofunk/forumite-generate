{
 "cells": [
  {
   "cell_type": "markdown",
   "metadata": {},
   "source": [
    "# textgenrnn\n",
    "\n",
    "* https://github.com/minimaxir/textgenrnn\n",
    "* https://github.com/minimaxir/textgenrnn/blob/master/docs/textgenrnn-demo.ipynb"
   ]
  },
  {
   "cell_type": "code",
   "execution_count": 1,
   "metadata": {},
   "outputs": [],
   "source": [
    "import sys, os\n",
    "import pandas as pd"
   ]
  },
  {
   "cell_type": "code",
   "execution_count": 7,
   "metadata": {},
   "outputs": [],
   "source": [
    "data_folder = '/media/student/8d1913cf-1155-47a5-a7db-b9a51f445d8f/student/data'"
   ]
  },
  {
   "cell_type": "code",
   "execution_count": 8,
   "metadata": {},
   "outputs": [
    {
     "data": {
      "text/plain": [
       "True"
      ]
     },
     "execution_count": 8,
     "metadata": {},
     "output_type": "execute_result"
    }
   ],
   "source": [
    "os.path.exists(data_folder)"
   ]
  },
  {
   "cell_type": "code",
   "execution_count": 9,
   "metadata": {},
   "outputs": [
    {
     "data": {
      "text/plain": [
       "['yelp_dataset',\n",
       " 'business.csv',\n",
       " 'jigsaw-toxic-comment-classification-challenge.zip',\n",
       " 'restaurants.csv',\n",
       " 'restaurant_reviews.csv',\n",
       " 'review.csv']"
      ]
     },
     "execution_count": 9,
     "metadata": {},
     "output_type": "execute_result"
    }
   ],
   "source": [
    "os.listdir(data_folder)"
   ]
  },
  {
   "cell_type": "code",
   "execution_count": 13,
   "metadata": {},
   "outputs": [],
   "source": [
    "reviews = pd.read_csv(\n",
    "    data_folder + '/restaurant_reviews.csv',\n",
    "    nrows=10000,\n",
    "    sep=',',\n",
    "    index_col=0,\n",
    "    usecols=['stars', 'text']\n",
    ")"
   ]
  },
  {
   "cell_type": "code",
   "execution_count": 14,
   "metadata": {},
   "outputs": [],
   "source": [
    "reviews.reset_index(inplace=True)"
   ]
  },
  {
   "cell_type": "code",
   "execution_count": 15,
   "metadata": {},
   "outputs": [
    {
     "data": {
      "text/html": [
       "<div>\n",
       "<style scoped>\n",
       "    .dataframe tbody tr th:only-of-type {\n",
       "        vertical-align: middle;\n",
       "    }\n",
       "\n",
       "    .dataframe tbody tr th {\n",
       "        vertical-align: top;\n",
       "    }\n",
       "\n",
       "    .dataframe thead th {\n",
       "        text-align: right;\n",
       "    }\n",
       "</style>\n",
       "<table border=\"1\" class=\"dataframe\">\n",
       "  <thead>\n",
       "    <tr style=\"text-align: right;\">\n",
       "      <th></th>\n",
       "      <th>stars</th>\n",
       "      <th>text</th>\n",
       "    </tr>\n",
       "  </thead>\n",
       "  <tbody>\n",
       "    <tr>\n",
       "      <th>0</th>\n",
       "      <td>5.0</td>\n",
       "      <td>Went in for a lunch. Steak sandwich was delici...</td>\n",
       "    </tr>\n",
       "    <tr>\n",
       "      <th>1</th>\n",
       "      <td>4.0</td>\n",
       "      <td>I'll be the first to admit that I was not exci...</td>\n",
       "    </tr>\n",
       "    <tr>\n",
       "      <th>2</th>\n",
       "      <td>3.0</td>\n",
       "      <td>Tracy dessert had a big name in Hong Kong and ...</td>\n",
       "    </tr>\n",
       "    <tr>\n",
       "      <th>3</th>\n",
       "      <td>1.0</td>\n",
       "      <td>This place has gone down hill.  Clearly they h...</td>\n",
       "    </tr>\n",
       "    <tr>\n",
       "      <th>4</th>\n",
       "      <td>4.0</td>\n",
       "      <td>Like walking back in time, every Saturday morn...</td>\n",
       "    </tr>\n",
       "  </tbody>\n",
       "</table>\n",
       "</div>"
      ],
      "text/plain": [
       "   stars                                               text\n",
       "0    5.0  Went in for a lunch. Steak sandwich was delici...\n",
       "1    4.0  I'll be the first to admit that I was not exci...\n",
       "2    3.0  Tracy dessert had a big name in Hong Kong and ...\n",
       "3    1.0  This place has gone down hill.  Clearly they h...\n",
       "4    4.0  Like walking back in time, every Saturday morn..."
      ]
     },
     "execution_count": 15,
     "metadata": {},
     "output_type": "execute_result"
    }
   ],
   "source": [
    "reviews.head()"
   ]
  },
  {
   "cell_type": "code",
   "execution_count": 9,
   "metadata": {},
   "outputs": [
    {
     "data": {
      "text/html": [
       "<div>\n",
       "<style scoped>\n",
       "    .dataframe tbody tr th:only-of-type {\n",
       "        vertical-align: middle;\n",
       "    }\n",
       "\n",
       "    .dataframe tbody tr th {\n",
       "        vertical-align: top;\n",
       "    }\n",
       "\n",
       "    .dataframe thead th {\n",
       "        text-align: right;\n",
       "    }\n",
       "</style>\n",
       "<table border=\"1\" class=\"dataframe\">\n",
       "  <thead>\n",
       "    <tr style=\"text-align: right;\">\n",
       "      <th></th>\n",
       "      <th>Unnamed: 0</th>\n",
       "      <th>business_id</th>\n",
       "      <th>stars</th>\n",
       "      <th>text</th>\n",
       "    </tr>\n",
       "  </thead>\n",
       "  <tbody>\n",
       "    <tr>\n",
       "      <th>0</th>\n",
       "      <td>3</td>\n",
       "      <td>ikCg8xy5JIg_NGPx-MSIDA</td>\n",
       "      <td>5.0</td>\n",
       "      <td>Went in for a lunch. Steak sandwich was delici...</td>\n",
       "    </tr>\n",
       "    <tr>\n",
       "      <th>1</th>\n",
       "      <td>5</td>\n",
       "      <td>eU_713ec6fTGNO4BegRaww</td>\n",
       "      <td>4.0</td>\n",
       "      <td>I'll be the first to admit that I was not exci...</td>\n",
       "    </tr>\n",
       "    <tr>\n",
       "      <th>2</th>\n",
       "      <td>6</td>\n",
       "      <td>3fw2X5bZYeW9xCz_zGhOHg</td>\n",
       "      <td>3.0</td>\n",
       "      <td>Tracy dessert had a big name in Hong Kong and ...</td>\n",
       "    </tr>\n",
       "    <tr>\n",
       "      <th>3</th>\n",
       "      <td>7</td>\n",
       "      <td>zvO-PJCpNk4fgAVUnExYAA</td>\n",
       "      <td>1.0</td>\n",
       "      <td>This place has gone down hill.  Clearly they h...</td>\n",
       "    </tr>\n",
       "    <tr>\n",
       "      <th>4</th>\n",
       "      <td>10</td>\n",
       "      <td>8mIrX_LrOnAqWsB5JrOojQ</td>\n",
       "      <td>4.0</td>\n",
       "      <td>Like walking back in time, every Saturday morn...</td>\n",
       "    </tr>\n",
       "  </tbody>\n",
       "</table>\n",
       "</div>"
      ],
      "text/plain": [
       "   Unnamed: 0             business_id  stars  \\\n",
       "0           3  ikCg8xy5JIg_NGPx-MSIDA    5.0   \n",
       "1           5  eU_713ec6fTGNO4BegRaww    4.0   \n",
       "2           6  3fw2X5bZYeW9xCz_zGhOHg    3.0   \n",
       "3           7  zvO-PJCpNk4fgAVUnExYAA    1.0   \n",
       "4          10  8mIrX_LrOnAqWsB5JrOojQ    4.0   \n",
       "\n",
       "                                                text  \n",
       "0  Went in for a lunch. Steak sandwich was delici...  \n",
       "1  I'll be the first to admit that I was not exci...  \n",
       "2  Tracy dessert had a big name in Hong Kong and ...  \n",
       "3  This place has gone down hill.  Clearly they h...  \n",
       "4  Like walking back in time, every Saturday morn...  "
      ]
     },
     "execution_count": 9,
     "metadata": {},
     "output_type": "execute_result"
    }
   ],
   "source": [
    "reviews.head()"
   ]
  },
  {
   "cell_type": "code",
   "execution_count": 101,
   "metadata": {},
   "outputs": [
    {
     "data": {
      "text/plain": [
       "array([\"Went in for a lunch. Steak sandwich was delicious, and the Caesar salad had an absolutely delicious dressing, with a perfect amount of dressing, and distributed perfectly across each leaf. I know I'm going on about the salad ... But it was perfect.\\r\\n\\r\\nDrink prices were pretty good.\\r\\n\\r\\nThe Server, Dawn, was friendly and accommodating. Very happy with her.\\r\\n\\r\\nIn summation, a great pub experience. Would go again!\",\n",
       "       'I\\'ll be the first to admit that I was not excited about going to La Tavolta. Being a food snob, when a group of friends suggested we go for dinner I looked online at the menu and to me there was nothing special and it seemed overpriced.  Im also not big on ordering pasta when I go out. Alas, I was outnumbered. Thank goodness! I ordered the sea bass special. It was to die for. Cooked perfectly, seasoned perfectly, perfect portion. I can not say enough good things about this dish. When the server asked how it was he seemed very proud of the dish and said, \" doesn\\'t she (the chef) do an incredible job?\" She does. \\r\\n\\r\\nMy hubby got the crab tortellini and also loved his. I heard \"mmmm this is so good\" from all around the table. Our waiter was super nice and even gave us free desserts because we were some of the last people in the restaurant. Service was very slow and the place was PACKED but we had our jugs of wine and a large group with good conversation so it didn\\'t seem to bother anyone.\\r\\n\\r\\nSo-\\r\\n\\r\\nDo order the calamari and fried zucchini appetizers. Leave out the mussels. \\r\\n\\r\\nIf they have the sea bass special, I highly recommend it. The chicken parm and crab tortellini were also very good and very big. The chicken Romano was a bit bland. The house salads were teeny. \\r\\n\\r\\nDo make a reservation but still expect to wait for your food. Go with a large group of people and plan for it to be loud. Don\\'t go with a date unless you\\'re fighting and don\\'t feel like hearing anything they have to say.  Ask to sit in the side room if it\\'s available.',\n",
       "       'Like walking back in time, every Saturday morning my sister and I was in a bowling league and after we were done, we\\'d spend a few quarters playing the pin ball machines until our mother came to pick us up.\\r\\n\\r\\nMy sister was daring and play the machines hard, she was afraid of that \"tilt\" showing up and freezing the game.  I, on the other hand was a bit more gentler and wanted to make sure I got my quarter\\'s worth.\\r\\n\\r\\nThis place has rows and rows of machines, some are really old and some are more of a mid 80\\'s theme.  There is even a Ms pac man!  It was fun to spend an afternoon playing the machines and remembering all the fun of my early teen years.',\n",
       "       ...,\n",
       "       \"This place has sparked my interest.  I had to return some items to Home Depot and I flashed that this place was near by.  So I stopped by on my way home.  Went in and the place is pretty boring for decor as well as staff.  Not a bad thing in my opinion but not a good thing either.  I ordered some red cheese enchiladas, and considering after a 15 minute drive home they were still some of the better ones I've had on this side of town.  I noticed some other things on the menu that is like to try but next time I will be eating in.  With 12 bucks for 3 enchiladas, not over priced, nor under, but a really good sauce.  Glad to see a place not replicating the horrible robertos bs.  I'll be back to try this place again.\",\n",
       "       \"I've never actually ate in Dominic's, but I've been getting take out for twenty years. I worked at a place in town that ordered out from them every day. Around 2005 we had some problems with service and said Dominic's sucks. Dominic's is like an old love after you don't have it for sometime you really miss it.  There pizza is one of the best in town. Real good crust with a thick well seasoned sauce. The cheese could be a bit heavier. I absolutely love there cheeseburger pizza.  It has pickles mustard and ketchup on it. There jojo's are some of the best I've ever had. The godfather burger is real good. The French fries are horrible at least for take out. They are loaded with grease. If you get fried fish with fries the fries taste like the fish.  I've had a lot of different food there over the years. You just got to find what you like.                                                     \\r\\n    The fried chicken is good to.\",\n",
       "       'Tried the Margherita and the blanco flatbread. The margherita was nothing to write home about but the blanco. Mmm mmm mmmm amazing! Would for sure get this again and my 11 month old daughter also gives it a thumbs up!'],\n",
       "      dtype=object)"
      ]
     },
     "execution_count": 101,
     "metadata": {},
     "output_type": "execute_result"
    }
   ],
   "source": [
    "reviews[reviews['stars'].isin([4, 5])]['text'].values"
   ]
  },
  {
   "cell_type": "code",
   "execution_count": 10,
   "metadata": {},
   "outputs": [
    {
     "data": {
      "text/plain": [
       "(100000, 4)"
      ]
     },
     "execution_count": 10,
     "metadata": {},
     "output_type": "execute_result"
    }
   ],
   "source": [
    "reviews.shape"
   ]
  },
  {
   "cell_type": "code",
   "execution_count": 11,
   "metadata": {},
   "outputs": [
    {
     "name": "stderr",
     "output_type": "stream",
     "text": [
      "Using TensorFlow backend.\n"
     ]
    }
   ],
   "source": [
    "from textgenrnn import textgenrnn\n",
    "textgen = textgenrnn()"
   ]
  },
  {
   "cell_type": "code",
   "execution_count": 12,
   "metadata": {},
   "outputs": [
    {
     "data": {
      "text/plain": [
       "['META_TOKEN',\n",
       " '__class__',\n",
       " '__delattr__',\n",
       " '__dict__',\n",
       " '__dir__',\n",
       " '__doc__',\n",
       " '__eq__',\n",
       " '__format__',\n",
       " '__ge__',\n",
       " '__getattribute__',\n",
       " '__gt__',\n",
       " '__hash__',\n",
       " '__init__',\n",
       " '__init_subclass__',\n",
       " '__le__',\n",
       " '__lt__',\n",
       " '__module__',\n",
       " '__ne__',\n",
       " '__new__',\n",
       " '__reduce__',\n",
       " '__reduce_ex__',\n",
       " '__repr__',\n",
       " '__setattr__',\n",
       " '__sizeof__',\n",
       " '__str__',\n",
       " '__subclasshook__',\n",
       " '__weakref__',\n",
       " 'config',\n",
       " 'default_config',\n",
       " 'encode_text_vectors',\n",
       " 'generate',\n",
       " 'generate_samples',\n",
       " 'generate_to_file',\n",
       " 'indices_char',\n",
       " 'load',\n",
       " 'model',\n",
       " 'num_classes',\n",
       " 'reset',\n",
       " 'save',\n",
       " 'similarity',\n",
       " 'tokenizer',\n",
       " 'train_from_file',\n",
       " 'train_from_largetext_file',\n",
       " 'train_new_model',\n",
       " 'train_on_texts',\n",
       " 'vocab']"
      ]
     },
     "execution_count": 12,
     "metadata": {},
     "output_type": "execute_result"
    }
   ],
   "source": [
    "dir(textgen)"
   ]
  },
  {
   "cell_type": "code",
   "execution_count": 22,
   "metadata": {},
   "outputs": [],
   "source": [
    "stars = [1, 2, 3, 4, 5]"
   ]
  },
  {
   "cell_type": "code",
   "execution_count": 23,
   "metadata": {},
   "outputs": [],
   "source": [
    "texts = {\n",
    "    star: reviews[reviews.stars == star]['text'].values[:20]\n",
    "    for star in stars\n",
    "}"
   ]
  },
  {
   "cell_type": "code",
   "execution_count": 27,
   "metadata": {},
   "outputs": [],
   "source": [
    "models_pretrained = {\n",
    "    star: textgenrnn(name='model_pretrained_{}'.format(star))\n",
    "    for star in stars\n",
    "}"
   ]
  },
  {
   "cell_type": "code",
   "execution_count": 28,
   "metadata": {},
   "outputs": [],
   "source": [
    "models_new = {\n",
    "    star: textgenrnn(name='model_new_{}'.format(star))\n",
    "    for star in stars\n",
    "}"
   ]
  },
  {
   "cell_type": "code",
   "execution_count": 33,
   "metadata": {},
   "outputs": [],
   "source": [
    "def train_models(word_level, star2model, star2texts, num_epochs=1, gen_epochs=1, max_length=10, **kwargs):\n",
    "    for star, model in star2model.items():\n",
    "        model.train_on_texts(\n",
    "            star2texts[star],\n",
    "            word_level=word_level,\n",
    "            num_epochs=num_epochs,\n",
    "            gen_epochs=gen_epochs,\n",
    "            max_length=max_length,\n",
    "            **kwargs)"
   ]
  },
  {
   "cell_type": "code",
   "execution_count": 34,
   "metadata": {},
   "outputs": [],
   "source": [
    "def train_models_word_level(star2model, star2texts, num_epochs=10, gen_epochs=5, max_length=40):\n",
    "    train_models(True,\n",
    "                 star2model,\n",
    "                 star2texts,\n",
    "                 num_epochs,\n",
    "                 gen_epochs,\n",
    "                 max_length,\n",
    "                 **kwargs)"
   ]
  },
  {
   "cell_type": "code",
   "execution_count": null,
   "metadata": {},
   "outputs": [],
   "source": [
    "def train_models_char_level(star2model, star2texts, num_epochs=80, gen_epochs=10, max_length=10, **kwargs):\n",
    "    train_models(False,\n",
    "                 star2model,\n",
    "                 star2texts,\n",
    "                 num_epochs,\n",
    "                 gen_epochs,\n",
    "                 max_length\n",
    "                 **kwargs)"
   ]
  },
  {
   "cell_type": "code",
   "execution_count": 35,
   "metadata": {},
   "outputs": [
    {
     "name": "stdout",
     "output_type": "stream",
     "text": [
      "Training on 13,829 character sequences.\n",
      "Epoch 1/10\n",
      "108/108 [==============================] - 22s 201ms/step - loss: 1.1056\n",
      "Epoch 2/10\n",
      "108/108 [==============================] - 26s 244ms/step - loss: 0.9972\n",
      "Epoch 3/10\n",
      "108/108 [==============================] - 26s 239ms/step - loss: 0.8980\n",
      "Epoch 4/10\n",
      "108/108 [==============================] - 26s 238ms/step - loss: 0.8074\n",
      "Epoch 5/10\n",
      "108/108 [==============================] - 24s 224ms/step - loss: 0.7194\n",
      "####################\n",
      "Temperature: 0.2\n",
      "####################\n",
      "I would have also sandwich in a burrito and the food was a bean and said it.  The server was some of the sandwich. I would have also me that the food was almost done and the servers always have also service, so the service was their price and the food was pretty for a burrito. I would have also me \n",
      "\n",
      "I would have also several menu for a burrito. Well of it was and so many other prinks. I pull our orders, we had a burrito and she was and my friend and I wanted all of the menu.  I was and he said it was some of the server when I was sick and the food was the tacos will be not a business and the f\n",
      "\n",
      "I would have also sandwiches on the sandwich she brought how the winter were in a burrito. I would have always seen in the sandwich something for the burrito. The food was somehow, I wanted all of all the bar the food was almost the servers and the service was the salt don't even think they would h\n",
      "\n",
      "####################\n",
      "Temperature: 0.5\n",
      "####################\n",
      "I would have come back our own come back to the price in the bar and said it, I wanted all of their business was asked with the service and don't give it away to very fresh/starthens and don't start things. I am so this place didn't go to the waitress to place it. The food was their servers always \n",
      "\n",
      "I was starting this place downtown was the meater assets about their forehead and we walked in a burrito. All thought I was signs menu. I would have added a good way (the ) is emided things on there.  I had their service, and the resort with the time I pramently the veggies. You can do you requirem\n",
      "\n",
      "This place here is a burrito and hopefully don't have and were to see this place was not our for the sauce service and some of the other particular delinor and become the time brought. I wanted a gif who was the first and I've gone bad before some consolution. I wanted all of all the service is som\n",
      "\n",
      "####################\n",
      "Temperature: 1.0\n",
      "####################\n",
      "Don't ended what I found as opinan that much has greet andmunted or too.\n",
      "\n",
      "I forgan to grab human menu for some reavill.\n",
      "\n",
      "I would have readoived away pot coming me!  Welp very dogs have it see our orders, there was no menain meal says. i've and had a busines arong it would not heappy There appeaserans artwork.s. She dis service, OK, Sight SaladThe Poor Tone by after 5 THE bath. 15… $2 staff for all down hill came out.\n",
      "\n",
      "Epoch 6/10\n",
      "108/108 [==============================] - 25s 227ms/step - loss: 0.6404\n",
      "Epoch 7/10\n",
      "108/108 [==============================] - 26s 236ms/step - loss: 0.5667\n",
      "Epoch 8/10\n",
      "108/108 [==============================] - 26s 240ms/step - loss: 0.4967\n",
      "Epoch 9/10\n",
      "108/108 [==============================] - 26s 240ms/step - loss: 0.4389\n",
      "Epoch 10/10\n",
      "108/108 [==============================] - 26s 238ms/step - loss: 0.3906\n",
      "####################\n",
      "Temperature: 0.2\n",
      "####################\n",
      "I was so many gift and my friend and I did NOT want to go to take the time. I had a staff of the same time and the food was so many terminal. We wanted to eat the taco and they will look a good just be abligt. I am so this place when they walked out and they were understaffed and a burrito? The ser\n",
      "\n",
      "I would have to go to this place for the same time and I did even what the tacos were will be look at the staff of the salad and the food was somewhere between that the food and so many personally didn't work. The service was rude, you can get the server says a good way too. When I saw a some time \n",
      "\n",
      "I was so I wanted all of the menu which we were all the food and the staff often has been our final service. I wanted a good salty and the same this place was not a server was and many person to get the server dinner with the staff is an understatement. I pull up to the counter there the staff was \n",
      "\n",
      "####################\n",
      "Temperature: 0.5\n",
      "####################\n",
      "I have a nice in the mill before my favor there was and she walked for the food and served me $4 before mine with comes over and hunter it was such a headache, and soft of the receipt and the same things were water. We walked out and said it.  The review on the other end of the other part was not s\n",
      "\n",
      "I ever let this reservation couple didn't get their salad with the service.  The longer is a few minutes as we waited at all of the staff  and the food was cold and start at least 10 minutes as we waite to get the food about the winter when they were all the veggies. They have and actually that my \n",
      "\n",
      "Also don't believe when they drink off the food and they could have also and they could not have a very much?? So I wanted all so much. One she was great but quantity this points were don't left up to the price (like and the salad) was cold and so much don't even think we asked if they went in a ta\n",
      "\n",
      "####################\n",
      "Temperature: 1.0\n",
      "####################\n",
      "if i was barring I did'd we and he's several something ago. I have some often to thing to go downhell. Are started \"Good & \"GTFOHA THE ON SMAI\" CAN THAT A FOA One Handr about 10 tast. How.  Walker Post I owned my revisary, and spender when i would have no mine it would never become this price to my\n",
      "\n",
      "I have no a crave mike and slow compary it were called as we person to bean or no singles arrided it were rude! The servers man we are drandried a terrible eacy/drings misterbull, beccently credit sandwich and dong foreh on last plat.\n",
      "\n",
      "Was very explained that i was credicking annoying around then the teaneracto are in it. I am so this review on the just head before expensive. The rude 5mm was nationall much the spently bryard while wasn't give super sometime or they ditted. It's god partication because we could work at Titace Fro\n",
      "\n",
      "Training on 18,033 character sequences.\n",
      "Epoch 1/10\n",
      "140/140 [==============================] - 36s 254ms/step - loss: 1.7157\n",
      "Epoch 2/10\n",
      "140/140 [==============================] - 31s 225ms/step - loss: 1.3351\n",
      "Epoch 3/10\n",
      "140/140 [==============================] - 33s 237ms/step - loss: 1.1774\n",
      "Epoch 4/10\n",
      "140/140 [==============================] - 31s 222ms/step - loss: 1.0769\n",
      "Epoch 5/10\n",
      "140/140 [==============================] - 33s 239ms/step - loss: 0.9820\n",
      "####################\n",
      "Temperature: 0.2\n",
      "####################\n",
      "The rest out of mery of such a service was a good restaurant at the service was a service and when we was a good party in the service and a service with a service and the service was a star to the service was a big price was a service and for a service was a good way to take mess.  The waiter was a\n",
      "\n",
      "I went with the way the service and when we had to be so sure they were a little and why did not seashe the service with a service was a few seasoned and the service was a service with a service and a few seasoned and was a good charm and when we was a good restaurant and a few services was a servi\n",
      "\n",
      "Looked to be a poorlantis and starts on the service was a service with a service with a service with a service with a service with a service and it was a server and a service with a good waitress as a service with a service and the service was a good waitress with a service with a service and was a\n",
      "\n",
      "####################\n",
      "Temperature: 0.5\n",
      "####################\n",
      "It has beers for 10 minutes and but the waiter was fearch was starting a service and what I really had the food and a monitroosa and checks which I came the best income asked for a cook of meal. I would have been here with a support and why did when the signator star were a poorly special was a pic\n",
      "\n",
      "FOOP placed before spots at a run and great. The waitress steaks was a trip was the service. I know the first part in the garlic serious which was a service and I would have been overwhet a birthday. I were sauce and what I realized a red was good definitive appetizers ordered a little intered aske\n",
      "\n",
      "A sugrant with this place on the service was completely not good for the waitress steaks had it to eat the waitress earlier with the service. I had to was the service and meat and recommend as good stars to put outstand to have food as we was an experience of underwhelming experience ordering a lit\n",
      "\n",
      "####################\n",
      "Temperature: 1.0\n",
      "####################\n"
     ]
    },
    {
     "name": "stdout",
     "output_type": "stream",
     "text": [
      "Just gross. Wenten this popuuter wead on my food.  A But Griten eaten I don't even was awesome slice of my fresh kano steaks. It has not so he good apologe. We had to fee the skewapes and for 3 mession from prices on the tatootao raw.\n",
      "\n",
      "Every John Juct fork ( underwhelming)..vistent flavor. I sashilume which it was nothing to take our too. He wasn't someone else the respontive epard steaks. They though I alrechase 20 earleadles and restounes in dinner and watch, looked task when we said are has kids placie every high accommtdi whe\n",
      "\n",
      "REALLY completely as why that the salabian waitress top (who will be a song. To completely no in filled unurl of sean which were good as effective he was eating at not the plater and when which shes had a great. The chemsieaces will not be not guy foe deskan hooks convension, we shouldn't have lebs\n",
      "\n",
      "Epoch 6/10\n",
      "140/140 [==============================] - 35s 247ms/step - loss: 0.8927\n",
      "Epoch 7/10\n",
      "140/140 [==============================] - 34s 246ms/step - loss: 0.8158\n",
      "Epoch 8/10\n",
      "140/140 [==============================] - 35s 247ms/step - loss: 0.7426\n",
      "Epoch 9/10\n",
      "140/140 [==============================] - 50s 360ms/step - loss: 0.6770\n",
      "Epoch 10/10\n",
      "140/140 [==============================] - 35s 253ms/step - loss: 0.6211\n",
      "####################\n",
      "Temperature: 0.2\n",
      "####################\n",
      "So were monter dinner and was a big properly. The service was a little priced but they were also hoped our order. The rest of the service was better then the service with here with the service with a service will be recommended to take our different I was a few party ordered the same character. I d\n",
      "\n",
      "I went with a servetic service with a service and it was a little carbonara. It was for the service and for another prices. I don't realize they were also replaced they were just a fun true but the service was a here and what I go to be seated at the service for the service was all the baby but the\n",
      "\n",
      "I went with a serveting for the service with a service but the service was all to talking about the service with a service for the service with a service and for another tips was a service.  I wish to wait a little thing for the service was a good restaurant. It was a little party of the service an\n",
      "\n",
      "####################\n",
      "Temperature: 0.5\n",
      "####################\n",
      "This place went to here to seem to be as a surprise to the service and for a steak and after great. We were expecting a little time I went for a seat. When we had to make me a little properly. It was out, when will be back and for another times as a cook. Completely overcooked for the service. I wo\n",
      "\n",
      "Went and great was because the fiarr and for the waitress. I don't employee the best trip food of the service... I was on eating attentive and for another chicken. I don't even do this alter cente the service. I probably an extrach for actually completely as a patron in my stomach. I would have off\n",
      "\n",
      "This place were sausa active the service for different they was the best who was beers out there are someone when we were seasoning my family and they  and I got this waitress steaks out of my book. When we got to be a pretty fumile on my family athan for the food stopped on the place. A big pretty\n",
      "\n",
      "####################\n",
      "Temperature: 1.0\n",
      "####################\n",
      "#1: Why I went went or I place was a high with spite chairs but they brought an order as a terrib, he was abentive special chicken selections what though wastafords were greated. The heny or and it grinding out the Dusk crow when we're under 30 mins to Pulle me. We was priced to a spend the situati\n",
      "\n",
      "This per of 20 & $25kfreqical pue reserved they you're a strike  I'd go so hungaugh. Whatever shot we show. A baby(visilp eating at nothing..vegeting big price. FOOT wait or no chicken suspect and when preparation, rip was good, and the plus was very singly only our great. I just worrewed from lite\n",
      "\n",
      "This entraping a priced with sit out for (with and wanted on shit props)\n",
      "\n",
      "Training on 22,691 character sequences.\n",
      "Epoch 1/10\n",
      "177/177 [==============================] - 43s 241ms/step - loss: 1.7658\n",
      "Epoch 2/10\n",
      "177/177 [==============================] - 44s 248ms/step - loss: 1.3844\n",
      "Epoch 3/10\n",
      "177/177 [==============================] - 43s 240ms/step - loss: 1.2297\n",
      "Epoch 4/10\n",
      "177/177 [==============================] - 40s 229ms/step - loss: 1.1195\n",
      "Epoch 5/10\n",
      "177/177 [==============================] - 42s 236ms/step - loss: 1.0275\n",
      "####################\n",
      "Temperature: 0.2\n",
      "####################\n",
      "I am a little salad and the menu were the price of the server were the place and the menu were coming to $10 - Very the side chicken was a little service and the server is the price were the burrito but we were to wait on the strawberry and the price were to be awful back to our server and the food\n",
      "\n",
      "The salad was a little spicy and the service was were fun. The menu literally said it was on the star chicken but the burrito and the mind was the main dish of person and a burrito and a strange was good and I am a stranger with a small chicken with a star and the service was so havare on the menu \n",
      "\n",
      "I wouldn't even a little service of this place is a little salad and the side cramped on the service when we were to get the price of the same chicken was so sat but on the small price were so been said in the price on the price were so much special. I also says a server and the menu were the price\n",
      "\n",
      "####################\n",
      "Temperature: 0.5\n",
      "####################\n",
      "I found a lot of feeling the small for the small chicken in the comments and a time I think is good.  The most in the place were to get the bar to people when we were to be more than $5.. I mostly be a bottre of this was not our food.  The beer was so much again. The price were left the star of the\n",
      "\n",
      "I even wish you want the burrito, we ordered the same in a style where people is a roll. The prime sold ordered a special wine because I was didn't even well a small half, she was the food and the side crab seemed to be ambomd and however.  The jade chicken was a bar in a small for the pretty star \n",
      "\n",
      "This is a hot and I am a little salad in the restaurant where a sample (just a little sausage and the size of the seat. The bar can like a sample to our entire patio. And not sure all beer and we were expensive and a burritt burrito stomach and a couple of even drinking server but because it was to\n",
      "\n",
      "####################\n",
      "Temperature: 1.0\n",
      "####################\n",
      "This is perfectly, and I orded not on it!  The sub is onstroud, 3/4 heaiin didn't even wish it was eating a built and got I'd give me. Askmart the McLaciott:   The rings and burger your characterelfie. There notocovent can may for musf and a time 4 appline back what in prosible wednesday churb. We \n",
      "\n",
      "The reserious Tradi for me we amara, tho so you pay we had shared there weren't to get their burrito of because It were the option finish but doing throur dhingo. Had to shiff in a slock salad what is been greatfirlers.  I don't be abset. The visit in Crowing Snotberries), even and some eitio are b\n",
      "\n",
      "Becurges me he know there lates live in Caprancy!  They're in their wain which is custugned literally a \"recent tour would ever welscame with a bit of wine by on it. The heatow was a small basked. We were mirant throun where before over $0 bowly on your browght. So I prefer Sattram in a reserit out\n",
      "\n",
      "Epoch 6/10\n",
      "177/177 [==============================] - 40s 228ms/step - loss: 0.9326\n",
      "Epoch 7/10\n",
      "177/177 [==============================] - 41s 230ms/step - loss: 0.8602\n",
      "Epoch 8/10\n",
      "177/177 [==============================] - 44s 251ms/step - loss: 0.7824\n",
      "Epoch 9/10\n",
      "177/177 [==============================] - 48s 273ms/step - loss: 0.7198\n",
      "Epoch 10/10\n",
      "177/177 [==============================] - 49s 279ms/step - loss: 0.6615\n",
      "####################\n",
      "Temperature: 0.2\n",
      "####################\n",
      "I've been a few misses and a few months and a few sides suge it was our fancy. The side server is good. It was a little chicken balled and a side that we would have online a server and a few misses and a few months on the menu for the server came on the sub and the couple of even in the server coul\n",
      "\n",
      "I love this place and a few misses of salad was surprised that a burrito for a small chicken bathroom and a side crave and here are eavess more evening. We had to say you get into the sub and the service was so hard and a server (in the servers way the startey) when we received and also taking so l\n",
      "\n"
     ]
    },
    {
     "name": "stdout",
     "output_type": "stream",
     "text": [
      "I love this place and a few misses of mango service and a server, and I have to say it was the manager for a salt of much side drinks. I also exterent it was the food when we had a table and the food was a little salty bit the price was the food was the food was the price was good and I was surpris\n",
      "\n",
      "####################\n",
      "Temperature: 0.5\n",
      "####################\n",
      "I came one the menu to the first first time chinesantly and a server, and the menu - Not Down My favourite in the service was good. We had to chatt and a few friendly menu to sat it is one of the shicks and the menu disappointed bar and a second layout. Maybe we don't eats the little chicken in the\n",
      "\n",
      "I adolant that was like here a small burger you even were to be more fresh anything in a little service.  The server is a side of the experience. It was our serva and the tasted sure the season for the soup and some confused was the neighboring on the side drink with experiencing the side. It was a\n",
      "\n",
      "We went to be most been a restaurant and she was a few months of the price with a burrito base salsaritize style. I don't have the top of the sides love we would make them so sure there it was our entire  in this place. The food was so far dessert, and I were very finished and you are eating the se\n",
      "\n",
      "####################\n",
      "Temperature: 1.0\n",
      "####################\n",
      "I really like the Valentine's Diny of Price, incredible at Food versaring service and dispostlating and chinesad hol evening). Apparently area is gonna ad & hacd so a lot\n",
      "\n",
      "Grandle chip was disappointingly take and came on our size cocktails in Sund is ramed, but the hallford in Hong Style, go. Nick sand dinner is good. It is nice but if you get the thought so many well. The work there was disappointed the visital second and good for collest and the mergic versed was \n",
      "\n",
      "Overall you offer, a lady grade crisps on the presern to 2 mini.I'd get say. I just moosed trave sized date to chose roll Just Ports and a had our order range on the sour, and much chicken chicken and expected (couple except for the reason.) - Apple 3 still or $35 minu to come come for a salt.\n",
      "\n",
      "Training on 13,740 character sequences.\n",
      "Epoch 1/10\n",
      "107/107 [==============================] - 27s 256ms/step - loss: 1.7739\n",
      "Epoch 2/10\n",
      "107/107 [==============================] - 24s 227ms/step - loss: 1.3368\n",
      "Epoch 3/10\n",
      "107/107 [==============================] - 31s 287ms/step - loss: 1.1631\n",
      "Epoch 4/10\n",
      "107/107 [==============================] - 25s 237ms/step - loss: 1.0354\n",
      "Epoch 5/10\n",
      "107/107 [==============================] - 26s 244ms/step - loss: 0.9288\n",
      "####################\n",
      "Temperature: 0.2\n",
      "####################\n",
      "We go with the salad and the food was the sauce is okay to start in the sauce.  I was going to be a great cheese is also and the sauce is okay.  It's the one of the sauce of the brisket and the chicken was also and the cookies was also also also the menu and the patio is also also also also also al\n",
      "\n",
      "We say the sauce was a great cheese is also and the sauce is also also also also also also and the sauce was a bit back and the couple were sometimed to start in the sauce.  I was a great cheese was a good place to start the service and the place is also and the best server and the sauce is also al\n",
      "\n",
      "We were surprised a bit back and the salad was the catest and the best server was also also leaved the patio and said the salad and the chicken and the sauce is also the sauce and I have a sides and the place to me the server and the best place is okay. It's a great place to go with a great cheese \n",
      "\n",
      "####################\n",
      "Temperature: 0.5\n",
      "####################\n",
      "After staff was a bit a brishe and sauce and the salad comes when it can say emplacation and I was also also amazored menu and add the best delicious and the salad and walked for the music with problem and the menu is also not good. I can see what I can get the most of the meat and something sauce.\n",
      "\n",
      "We having sometimes for a bit back to go with cheese is good, it does the food and was also also good also for the dessert. I didn't even work to music the menu and tater class. It was for $92! The sauce is a pepper and also dishing and tender great fresh.  Also is also makes it to be for a place t\n",
      "\n",
      "Like salad, place too, water and delicious and the menu is also the prices of the bun at the bar, so the other and the card choice was it. Do I go at the best server to play my sea or muster and some or a sugger and the patio was a good dishing. The service was so good. The shishet is also deliciou\n",
      "\n",
      "####################\n",
      "Temperature: 1.0\n",
      "####################\n",
      "We 6 can dowled fresh. So visit, but we ever make it befret the super.- Even good, meat, to know.\n",
      "\n",
      "Gara chocoet, yeve, a tertleching place because these fun having ordes I've bread Josh China and Joptabort sty with wear comforting meat and kind of a res what I was fell) you said speam because I've been liked it in tuin or so firth.porks!\n",
      "\n",
      "Stall price naaror, a beef bread delicious and I wandered hims in toxing. Centles made I become sides ameninesation to have it's our stuns the tertel, nothing as a good tasty. Well, a crater drinksone, here dressines and pana with Rowli servet too. The ather is so good.  Also, For ordered it to be \n",
      "\n",
      "Epoch 6/10\n",
      "107/107 [==============================] - 32s 297ms/step - loss: 0.8306\n",
      "Epoch 7/10\n",
      "107/107 [==============================] - 26s 238ms/step - loss: 0.7496\n",
      "Epoch 8/10\n",
      "107/107 [==============================] - 24s 227ms/step - loss: 0.6585\n",
      "Epoch 9/10\n",
      "107/107 [==============================] - 25s 234ms/step - loss: 0.5950\n",
      "Epoch 10/10\n",
      "107/107 [==============================] - 30s 276ms/step - loss: 0.5372\n",
      "####################\n",
      "Temperature: 0.2\n",
      "####################\n",
      "Here's why I didn't go I becoment a bit back and the food is amazing, but the best prices are wondering the patio.  Im a long place to start the time I've got mething the machines and I have been more there in the sauce.  I was so did not a bit back and appetizers are really good place to go with a\n",
      "\n",
      "We were some of a great place to go this power. We were super hearing and was some so popular the sauce and the catfish and the sashimi wonton tacos. I have been here a great cheese but here and the sauce is a little dish. Wontons started with the food also and the patio sauce was a great place to \n",
      "\n",
      "We had the food was a great picked with people and the food was so did not like the cat and cheese dip. Although the salmon dish and the sauce (gream was fun there in time to meat was a great cheese, and the chili is okay, but I was not excited to be better. The salad was served in the salad, but t\n",
      "\n",
      "####################\n",
      "Temperature: 0.5\n",
      "####################\n",
      "Very pleasant friend said I have been a good but we had the sausage cheese is add.   the decor and server delicious and the patio was a bit one stuffed and did not have a beer a long place to admit that you are waited to be the best portobe.  I had not list better!Thanks Jose! We walked in visit, s\n",
      "\n",
      "So group of also and sold the des the patio and the cheese beef sautands are fairly the pepperoni. We salad and delicious and macaron and enough peak comments and the food was a marnaus on the menu for a mid 80's place to go portobe a good cloud. I have been here you seen your order, but I had a ta\n",
      "\n",
      "Langeri are super big bit been wanted to meat and tater comments.\n",
      "\n",
      "####################\n",
      "Temperature: 1.0\n",
      "####################\n",
      "The wall is giving for the brisket, but there atmospherially soup at the mac place and lunch to our servitity. I probably wants to like it was good food for my room was it.Avoid for served it until instrupting large Sougue salsari and teeny.  There is amazing. The time is as excild, so amazing, nee\n",
      "\n",
      "Dighd Cola Cookies was fresh. I would sid beer likes an easill animal ansently, unditat and beefricked with malacy and waite tasty. Don't get it but I really for more people, not doing the class all differ and it's liked with thousant. So go is right.\n",
      "\n",
      "Howeveritp a dip with tight alternation and which the catefula pizziamps nothing right fom. So unvelary super ordered to unlearned very vegetary with a very sauce ordered mostain. The mid is the mostion music and we really gonner are just okay, so dog was the partier Joue avide, duming ice otherwal\n",
      "\n",
      "Training on 5,316 character sequences.\n"
     ]
    },
    {
     "name": "stdout",
     "output_type": "stream",
     "text": [
      "Epoch 1/10\n",
      " 6/41 [===>..........................] - ETA: 29s - loss: 2.0450"
     ]
    },
    {
     "ename": "KeyboardInterrupt",
     "evalue": "",
     "output_type": "error",
     "traceback": [
      "\u001b[0;31m---------------------------------------------------------------------------\u001b[0m",
      "\u001b[0;31mKeyboardInterrupt\u001b[0m                         Traceback (most recent call last)",
      "\u001b[0;32m<ipython-input-35-5c6aa5ebf081>\u001b[0m in \u001b[0;36m<module>\u001b[0;34m\u001b[0m\n\u001b[1;32m      3\u001b[0m     \u001b[0mtexts\u001b[0m\u001b[0;34m,\u001b[0m\u001b[0;34m\u001b[0m\u001b[0;34m\u001b[0m\u001b[0m\n\u001b[1;32m      4\u001b[0m     \u001b[0mnum_epochs\u001b[0m\u001b[0;34m=\u001b[0m\u001b[0;36m10\u001b[0m\u001b[0;34m,\u001b[0m\u001b[0;34m\u001b[0m\u001b[0;34m\u001b[0m\u001b[0m\n\u001b[0;32m----> 5\u001b[0;31m     gen_epochs=5)\n\u001b[0m",
      "\u001b[0;32m<ipython-input-34-d38746613318>\u001b[0m in \u001b[0;36mtrain_models_word_level\u001b[0;34m(star2model, star2texts, num_epochs, gen_epochs, max_length)\u001b[0m\n\u001b[1;32m      5\u001b[0m                  \u001b[0mnum_epochs\u001b[0m\u001b[0;34m=\u001b[0m\u001b[0mnum_epochs\u001b[0m\u001b[0;34m,\u001b[0m\u001b[0;34m\u001b[0m\u001b[0;34m\u001b[0m\u001b[0m\n\u001b[1;32m      6\u001b[0m                  \u001b[0mgen_epochs\u001b[0m\u001b[0;34m=\u001b[0m\u001b[0mgen_epochs\u001b[0m\u001b[0;34m,\u001b[0m\u001b[0;34m\u001b[0m\u001b[0;34m\u001b[0m\u001b[0m\n\u001b[0;32m----> 7\u001b[0;31m                  max_length=max_length)\n\u001b[0m",
      "\u001b[0;32m<ipython-input-33-3c2a5e1068d5>\u001b[0m in \u001b[0;36mtrain_models\u001b[0;34m(word_level, star2model, star2texts, num_epochs, gen_epochs, max_length)\u001b[0m\n\u001b[1;32m      6\u001b[0m             \u001b[0mnum_epochs\u001b[0m\u001b[0;34m=\u001b[0m\u001b[0mnum_epochs\u001b[0m\u001b[0;34m,\u001b[0m\u001b[0;34m\u001b[0m\u001b[0;34m\u001b[0m\u001b[0m\n\u001b[1;32m      7\u001b[0m             \u001b[0mgen_epochs\u001b[0m\u001b[0;34m=\u001b[0m\u001b[0mgen_epochs\u001b[0m\u001b[0;34m,\u001b[0m\u001b[0;34m\u001b[0m\u001b[0;34m\u001b[0m\u001b[0m\n\u001b[0;32m----> 8\u001b[0;31m             max_length=max_length)\n\u001b[0m",
      "\u001b[0;32m~/anaconda3/lib/python3.6/site-packages/textgenrnn/textgenrnn.py\u001b[0m in \u001b[0;36mtrain_on_texts\u001b[0;34m(self, texts, context_labels, batch_size, num_epochs, verbose, new_model, gen_epochs, train_size, max_gen_length, validation, dropout, via_new_model, save_epochs, multi_gpu, **kwargs)\u001b[0m\n\u001b[1;32m    222\u001b[0m                               \u001b[0mmax_queue_size\u001b[0m\u001b[0;34m=\u001b[0m\u001b[0;36m10\u001b[0m\u001b[0;34m,\u001b[0m\u001b[0;34m\u001b[0m\u001b[0;34m\u001b[0m\u001b[0m\n\u001b[1;32m    223\u001b[0m                               \u001b[0mvalidation_data\u001b[0m\u001b[0;34m=\u001b[0m\u001b[0mgen_val\u001b[0m\u001b[0;34m,\u001b[0m\u001b[0;34m\u001b[0m\u001b[0;34m\u001b[0m\u001b[0m\n\u001b[0;32m--> 224\u001b[0;31m                               \u001b[0mvalidation_steps\u001b[0m\u001b[0;34m=\u001b[0m\u001b[0mval_steps\u001b[0m\u001b[0;34m\u001b[0m\u001b[0;34m\u001b[0m\u001b[0m\n\u001b[0m\u001b[1;32m    225\u001b[0m                               )\n\u001b[1;32m    226\u001b[0m \u001b[0;34m\u001b[0m\u001b[0m\n",
      "\u001b[0;32m~/.local/lib/python3.6/site-packages/keras/legacy/interfaces.py\u001b[0m in \u001b[0;36mwrapper\u001b[0;34m(*args, **kwargs)\u001b[0m\n\u001b[1;32m     89\u001b[0m                 warnings.warn('Update your `' + object_name + '` call to the ' +\n\u001b[1;32m     90\u001b[0m                               'Keras 2 API: ' + signature, stacklevel=2)\n\u001b[0;32m---> 91\u001b[0;31m             \u001b[0;32mreturn\u001b[0m \u001b[0mfunc\u001b[0m\u001b[0;34m(\u001b[0m\u001b[0;34m*\u001b[0m\u001b[0margs\u001b[0m\u001b[0;34m,\u001b[0m \u001b[0;34m**\u001b[0m\u001b[0mkwargs\u001b[0m\u001b[0;34m)\u001b[0m\u001b[0;34m\u001b[0m\u001b[0;34m\u001b[0m\u001b[0m\n\u001b[0m\u001b[1;32m     92\u001b[0m         \u001b[0mwrapper\u001b[0m\u001b[0;34m.\u001b[0m\u001b[0m_original_function\u001b[0m \u001b[0;34m=\u001b[0m \u001b[0mfunc\u001b[0m\u001b[0;34m\u001b[0m\u001b[0;34m\u001b[0m\u001b[0m\n\u001b[1;32m     93\u001b[0m         \u001b[0;32mreturn\u001b[0m \u001b[0mwrapper\u001b[0m\u001b[0;34m\u001b[0m\u001b[0;34m\u001b[0m\u001b[0m\n",
      "\u001b[0;32m~/.local/lib/python3.6/site-packages/keras/engine/training.py\u001b[0m in \u001b[0;36mfit_generator\u001b[0;34m(self, generator, steps_per_epoch, epochs, verbose, callbacks, validation_data, validation_steps, class_weight, max_queue_size, workers, use_multiprocessing, shuffle, initial_epoch)\u001b[0m\n\u001b[1;32m   1416\u001b[0m             \u001b[0muse_multiprocessing\u001b[0m\u001b[0;34m=\u001b[0m\u001b[0muse_multiprocessing\u001b[0m\u001b[0;34m,\u001b[0m\u001b[0;34m\u001b[0m\u001b[0;34m\u001b[0m\u001b[0m\n\u001b[1;32m   1417\u001b[0m             \u001b[0mshuffle\u001b[0m\u001b[0;34m=\u001b[0m\u001b[0mshuffle\u001b[0m\u001b[0;34m,\u001b[0m\u001b[0;34m\u001b[0m\u001b[0;34m\u001b[0m\u001b[0m\n\u001b[0;32m-> 1418\u001b[0;31m             initial_epoch=initial_epoch)\n\u001b[0m\u001b[1;32m   1419\u001b[0m \u001b[0;34m\u001b[0m\u001b[0m\n\u001b[1;32m   1420\u001b[0m     \u001b[0;34m@\u001b[0m\u001b[0minterfaces\u001b[0m\u001b[0;34m.\u001b[0m\u001b[0mlegacy_generator_methods_support\u001b[0m\u001b[0;34m\u001b[0m\u001b[0;34m\u001b[0m\u001b[0m\n",
      "\u001b[0;32m~/.local/lib/python3.6/site-packages/keras/engine/training_generator.py\u001b[0m in \u001b[0;36mfit_generator\u001b[0;34m(model, generator, steps_per_epoch, epochs, verbose, callbacks, validation_data, validation_steps, class_weight, max_queue_size, workers, use_multiprocessing, shuffle, initial_epoch)\u001b[0m\n\u001b[1;32m    215\u001b[0m                 outs = model.train_on_batch(x, y,\n\u001b[1;32m    216\u001b[0m                                             \u001b[0msample_weight\u001b[0m\u001b[0;34m=\u001b[0m\u001b[0msample_weight\u001b[0m\u001b[0;34m,\u001b[0m\u001b[0;34m\u001b[0m\u001b[0;34m\u001b[0m\u001b[0m\n\u001b[0;32m--> 217\u001b[0;31m                                             class_weight=class_weight)\n\u001b[0m\u001b[1;32m    218\u001b[0m \u001b[0;34m\u001b[0m\u001b[0m\n\u001b[1;32m    219\u001b[0m                 \u001b[0mouts\u001b[0m \u001b[0;34m=\u001b[0m \u001b[0mto_list\u001b[0m\u001b[0;34m(\u001b[0m\u001b[0mouts\u001b[0m\u001b[0;34m)\u001b[0m\u001b[0;34m\u001b[0m\u001b[0;34m\u001b[0m\u001b[0m\n",
      "\u001b[0;32m~/.local/lib/python3.6/site-packages/keras/engine/training.py\u001b[0m in \u001b[0;36mtrain_on_batch\u001b[0;34m(self, x, y, sample_weight, class_weight)\u001b[0m\n\u001b[1;32m   1215\u001b[0m             \u001b[0mins\u001b[0m \u001b[0;34m=\u001b[0m \u001b[0mx\u001b[0m \u001b[0;34m+\u001b[0m \u001b[0my\u001b[0m \u001b[0;34m+\u001b[0m \u001b[0msample_weights\u001b[0m\u001b[0;34m\u001b[0m\u001b[0;34m\u001b[0m\u001b[0m\n\u001b[1;32m   1216\u001b[0m         \u001b[0mself\u001b[0m\u001b[0;34m.\u001b[0m\u001b[0m_make_train_function\u001b[0m\u001b[0;34m(\u001b[0m\u001b[0;34m)\u001b[0m\u001b[0;34m\u001b[0m\u001b[0;34m\u001b[0m\u001b[0m\n\u001b[0;32m-> 1217\u001b[0;31m         \u001b[0moutputs\u001b[0m \u001b[0;34m=\u001b[0m \u001b[0mself\u001b[0m\u001b[0;34m.\u001b[0m\u001b[0mtrain_function\u001b[0m\u001b[0;34m(\u001b[0m\u001b[0mins\u001b[0m\u001b[0;34m)\u001b[0m\u001b[0;34m\u001b[0m\u001b[0;34m\u001b[0m\u001b[0m\n\u001b[0m\u001b[1;32m   1218\u001b[0m         \u001b[0;32mreturn\u001b[0m \u001b[0munpack_singleton\u001b[0m\u001b[0;34m(\u001b[0m\u001b[0moutputs\u001b[0m\u001b[0;34m)\u001b[0m\u001b[0;34m\u001b[0m\u001b[0;34m\u001b[0m\u001b[0m\n\u001b[1;32m   1219\u001b[0m \u001b[0;34m\u001b[0m\u001b[0m\n",
      "\u001b[0;32m~/.local/lib/python3.6/site-packages/keras/backend/tensorflow_backend.py\u001b[0m in \u001b[0;36m__call__\u001b[0;34m(self, inputs)\u001b[0m\n\u001b[1;32m   2713\u001b[0m                 \u001b[0;32mreturn\u001b[0m \u001b[0mself\u001b[0m\u001b[0;34m.\u001b[0m\u001b[0m_legacy_call\u001b[0m\u001b[0;34m(\u001b[0m\u001b[0minputs\u001b[0m\u001b[0;34m)\u001b[0m\u001b[0;34m\u001b[0m\u001b[0;34m\u001b[0m\u001b[0m\n\u001b[1;32m   2714\u001b[0m \u001b[0;34m\u001b[0m\u001b[0m\n\u001b[0;32m-> 2715\u001b[0;31m             \u001b[0;32mreturn\u001b[0m \u001b[0mself\u001b[0m\u001b[0;34m.\u001b[0m\u001b[0m_call\u001b[0m\u001b[0;34m(\u001b[0m\u001b[0minputs\u001b[0m\u001b[0;34m)\u001b[0m\u001b[0;34m\u001b[0m\u001b[0;34m\u001b[0m\u001b[0m\n\u001b[0m\u001b[1;32m   2716\u001b[0m         \u001b[0;32melse\u001b[0m\u001b[0;34m:\u001b[0m\u001b[0;34m\u001b[0m\u001b[0;34m\u001b[0m\u001b[0m\n\u001b[1;32m   2717\u001b[0m             \u001b[0;32mif\u001b[0m \u001b[0mpy_any\u001b[0m\u001b[0;34m(\u001b[0m\u001b[0mis_tensor\u001b[0m\u001b[0;34m(\u001b[0m\u001b[0mx\u001b[0m\u001b[0;34m)\u001b[0m \u001b[0;32mfor\u001b[0m \u001b[0mx\u001b[0m \u001b[0;32min\u001b[0m \u001b[0minputs\u001b[0m\u001b[0;34m)\u001b[0m\u001b[0;34m:\u001b[0m\u001b[0;34m\u001b[0m\u001b[0;34m\u001b[0m\u001b[0m\n",
      "\u001b[0;32m~/.local/lib/python3.6/site-packages/keras/backend/tensorflow_backend.py\u001b[0m in \u001b[0;36m_call\u001b[0;34m(self, inputs)\u001b[0m\n\u001b[1;32m   2673\u001b[0m             \u001b[0mfetched\u001b[0m \u001b[0;34m=\u001b[0m \u001b[0mself\u001b[0m\u001b[0;34m.\u001b[0m\u001b[0m_callable_fn\u001b[0m\u001b[0;34m(\u001b[0m\u001b[0;34m*\u001b[0m\u001b[0marray_vals\u001b[0m\u001b[0;34m,\u001b[0m \u001b[0mrun_metadata\u001b[0m\u001b[0;34m=\u001b[0m\u001b[0mself\u001b[0m\u001b[0;34m.\u001b[0m\u001b[0mrun_metadata\u001b[0m\u001b[0;34m)\u001b[0m\u001b[0;34m\u001b[0m\u001b[0;34m\u001b[0m\u001b[0m\n\u001b[1;32m   2674\u001b[0m         \u001b[0;32melse\u001b[0m\u001b[0;34m:\u001b[0m\u001b[0;34m\u001b[0m\u001b[0;34m\u001b[0m\u001b[0m\n\u001b[0;32m-> 2675\u001b[0;31m             \u001b[0mfetched\u001b[0m \u001b[0;34m=\u001b[0m \u001b[0mself\u001b[0m\u001b[0;34m.\u001b[0m\u001b[0m_callable_fn\u001b[0m\u001b[0;34m(\u001b[0m\u001b[0;34m*\u001b[0m\u001b[0marray_vals\u001b[0m\u001b[0;34m)\u001b[0m\u001b[0;34m\u001b[0m\u001b[0;34m\u001b[0m\u001b[0m\n\u001b[0m\u001b[1;32m   2676\u001b[0m         \u001b[0;32mreturn\u001b[0m \u001b[0mfetched\u001b[0m\u001b[0;34m[\u001b[0m\u001b[0;34m:\u001b[0m\u001b[0mlen\u001b[0m\u001b[0;34m(\u001b[0m\u001b[0mself\u001b[0m\u001b[0;34m.\u001b[0m\u001b[0moutputs\u001b[0m\u001b[0;34m)\u001b[0m\u001b[0;34m]\u001b[0m\u001b[0;34m\u001b[0m\u001b[0;34m\u001b[0m\u001b[0m\n\u001b[1;32m   2677\u001b[0m \u001b[0;34m\u001b[0m\u001b[0m\n",
      "\u001b[0;32m~/anaconda3/lib/python3.6/site-packages/tensorflow/python/client/session.py\u001b[0m in \u001b[0;36m__call__\u001b[0;34m(self, *args, **kwargs)\u001b[0m\n\u001b[1;32m   1437\u001b[0m           ret = tf_session.TF_SessionRunCallable(\n\u001b[1;32m   1438\u001b[0m               \u001b[0mself\u001b[0m\u001b[0;34m.\u001b[0m\u001b[0m_session\u001b[0m\u001b[0;34m.\u001b[0m\u001b[0m_session\u001b[0m\u001b[0;34m,\u001b[0m \u001b[0mself\u001b[0m\u001b[0;34m.\u001b[0m\u001b[0m_handle\u001b[0m\u001b[0;34m,\u001b[0m \u001b[0margs\u001b[0m\u001b[0;34m,\u001b[0m \u001b[0mstatus\u001b[0m\u001b[0;34m,\u001b[0m\u001b[0;34m\u001b[0m\u001b[0;34m\u001b[0m\u001b[0m\n\u001b[0;32m-> 1439\u001b[0;31m               run_metadata_ptr)\n\u001b[0m\u001b[1;32m   1440\u001b[0m         \u001b[0;32mif\u001b[0m \u001b[0mrun_metadata\u001b[0m\u001b[0;34m:\u001b[0m\u001b[0;34m\u001b[0m\u001b[0;34m\u001b[0m\u001b[0m\n\u001b[1;32m   1441\u001b[0m           \u001b[0mproto_data\u001b[0m \u001b[0;34m=\u001b[0m \u001b[0mtf_session\u001b[0m\u001b[0;34m.\u001b[0m\u001b[0mTF_GetBuffer\u001b[0m\u001b[0;34m(\u001b[0m\u001b[0mrun_metadata_ptr\u001b[0m\u001b[0;34m)\u001b[0m\u001b[0;34m\u001b[0m\u001b[0;34m\u001b[0m\u001b[0m\n",
      "\u001b[0;31mKeyboardInterrupt\u001b[0m: "
     ]
    }
   ],
   "source": [
    "train_models_word_level(\n",
    "    models_pretrained,\n",
    "    texts,\n",
    "    num_epochs=10,\n",
    "    gen_epochs=5)"
   ]
  },
  {
   "cell_type": "code",
   "execution_count": null,
   "metadata": {},
   "outputs": [],
   "source": [
    "train_models_word_level(\n",
    "    models_new,\n",
    "    texts,\n",
    "    num_epochs=10,\n",
    "    gen_epochs=5)"
   ]
  },
  {
   "cell_type": "code",
   "execution_count": 46,
   "metadata": {},
   "outputs": [
    {
     "name": "stderr",
     "output_type": "stream",
     "text": [
      "100%|██████████| 2/2 [00:03<00:00,  1.80s/it]\n"
     ]
    }
   ],
   "source": [
    "t = models_pretrained[1].generate(2, return_as_list=True)"
   ]
  },
  {
   "cell_type": "code",
   "execution_count": 47,
   "metadata": {},
   "outputs": [
    {
     "data": {
      "text/plain": [
       "[\"Also don't believe when they're suppose to go to the beast and they said it.  They were almost the bar that particular drinks are rude. One of the most of the same way (like when the the order) may be only with the service with someh so I can get better for a burrito because liking for the same tim\",\n",
       " 'so miserpend is working card for back and the food was too for a burrito?? Also, this place does not worth all.  All sometimes they will never be it was not a burrito. Once we credo and their food and they would not could be the food about being this point and many personast experience. it cheese t']"
      ]
     },
     "execution_count": 47,
     "metadata": {},
     "output_type": "execute_result"
    }
   ],
   "source": [
    "t"
   ]
  },
  {
   "cell_type": "code",
   "execution_count": 52,
   "metadata": {},
   "outputs": [],
   "source": [
    "models_pretrained[1].save()"
   ]
  },
  {
   "cell_type": "code",
   "execution_count": 89,
   "metadata": {},
   "outputs": [],
   "source": [
    "tt = textgenrnn(name='model_pretrained_1')"
   ]
  },
  {
   "cell_type": "code",
   "execution_count": 90,
   "metadata": {},
   "outputs": [],
   "source": [
    "\n",
    "\n",
    "tt.reset()"
   ]
  },
  {
   "cell_type": "code",
   "execution_count": 91,
   "metadata": {},
   "outputs": [],
   "source": [
    "texts = ['Never gonna give you up, never gonna let you down',\n",
    "            'Never gonna run around and desert you',\n",
    "            'Never gonna make you cry, never gonna say goodbye',\n",
    "            'Never gonna tell a lie and hurt you']"
   ]
  },
  {
   "cell_type": "code",
   "execution_count": 99,
   "metadata": {},
   "outputs": [
    {
     "name": "stdout",
     "output_type": "stream",
     "text": [
      "Training new model w/ 2-layer, 128-cell LSTMs\n",
      "Training on 174 character sequences.\n",
      "Epoch 1/1\n",
      "1/1 [==============================] - 4s 4s/step - loss: 3.2612\n",
      "####################\n",
      "Temperature: 0.2\n",
      "####################\n",
      "nne   nnnnenen nnnn nnn   nn nn  n rn n nn  r n ne  nn a n  n  nN  n    ne n ene  n   nt n n nn     n   nn n       eiu neennnnnno nn nug    e   nnnn     nN  a nne n            ne     e  n en n n e n  n  nn   n     n   n oe n  nn  n  ennnn   n    nn     nn n nn   n n   n     nnd   en   ae   ne n    \n",
      "\n",
      "n nnnnnn ne nnnn nnne    n   nnnn nn n nnnn  nu   n nnn  nn  en n nn e   en nr  nnan n  e        n  n    n      nr        n ngn    n gnnn    nn nn  ne   ln    e  n n   n  n   e    nn   no   nn   nn      n     a n      n        n  n      r n nrn      nnn nn  rn e r n   n en uN vn n n  n  n n  n gn n\n",
      "\n",
      "nnn n en nnn ennn n nnn nn   n   nnn na n n e n    nnn   e n  nn    n e e n    nee      nn  nn  nna       e   en    nagn n  ne n  e ann n   nr n       n n n enn n n   n n  n n n na n ng n an  en nnn ln  n n      n nN n n  n N n  n  n e  e a e  n  nen    p n gnu     n       un   nnn  nnn  n an en   \n",
      "\n",
      "####################\n",
      "Temperature: 0.5\n",
      "####################\n",
      " nee neennen n  neennn    eg en nnn n ,ugane krgvdnnr bn  era ne av aaharnn n rv,hrnenenoneoan\n",
      "\n",
      "   nnnennanee   e v nneene v  nr gNenenog ga lb vupnbr Np aN np  g aNos id e aea,gnrvb un nnvdunlennnoeggrae dueeulrN,v l nnagvn      n no hnenrennnn uoanwgaNnen r rnkr nsNurt ns nirhvp   gdrNnnag pn  arhvkb, t nae ge\n",
      "\n",
      "nnrr nn  eanrn nN n nee nNennnneeernnnoongv nrNn n vn\n",
      "\n",
      "####################\n",
      "Temperature: 1.0\n",
      "####################\n",
      "nN nunn v geg\n",
      "\n",
      "raNr  nvdneno eee k ersv r\n",
      "\n",
      "an  erpme  rvnrh eehevn  a rnu onnrnacnsrhNn noykcunneeteanwsrhculnywneiwelpNamoyw\n",
      "\n"
     ]
    }
   ],
   "source": [
    "tt.train_on_texts(texts, num_epochs=1, new_model=True)"
   ]
  },
  {
   "cell_type": "code",
   "execution_count": 97,
   "metadata": {},
   "outputs": [
    {
     "data": {
      "text/plain": [
       "['META_TOKEN',\n",
       " '__class__',\n",
       " '__delattr__',\n",
       " '__dict__',\n",
       " '__dir__',\n",
       " '__doc__',\n",
       " '__eq__',\n",
       " '__format__',\n",
       " '__ge__',\n",
       " '__getattribute__',\n",
       " '__gt__',\n",
       " '__hash__',\n",
       " '__init__',\n",
       " '__init_subclass__',\n",
       " '__le__',\n",
       " '__lt__',\n",
       " '__module__',\n",
       " '__ne__',\n",
       " '__new__',\n",
       " '__reduce__',\n",
       " '__reduce_ex__',\n",
       " '__repr__',\n",
       " '__setattr__',\n",
       " '__sizeof__',\n",
       " '__str__',\n",
       " '__subclasshook__',\n",
       " '__weakref__',\n",
       " 'config',\n",
       " 'default_config',\n",
       " 'encode_text_vectors',\n",
       " 'generate',\n",
       " 'generate_samples',\n",
       " 'generate_to_file',\n",
       " 'indices_char',\n",
       " 'load',\n",
       " 'model',\n",
       " 'num_classes',\n",
       " 'reset',\n",
       " 'save',\n",
       " 'similarity',\n",
       " 'tokenizer',\n",
       " 'train_from_file',\n",
       " 'train_from_largetext_file',\n",
       " 'train_new_model',\n",
       " 'train_on_texts',\n",
       " 'vocab']"
      ]
     },
     "execution_count": 97,
     "metadata": {},
     "output_type": "execute_result"
    }
   ],
   "source": [
    "dir(tt)"
   ]
  },
  {
   "cell_type": "code",
   "execution_count": 98,
   "metadata": {},
   "outputs": [
    {
     "data": {
      "text/plain": [
       "{'rnn_layers': 2,\n",
       " 'rnn_size': 128,\n",
       " 'rnn_bidirectional': False,\n",
       " 'max_length': 40,\n",
       " 'max_words': 10000,\n",
       " 'dim_embeddings': 100,\n",
       " 'word_level': False,\n",
       " 'single_text': False,\n",
       " 'name': 'model_pretrained_1'}"
      ]
     },
     "execution_count": 98,
     "metadata": {},
     "output_type": "execute_result"
    }
   ],
   "source": [
    "tt.config"
   ]
  },
  {
   "cell_type": "code",
   "execution_count": 139,
   "metadata": {},
   "outputs": [
    {
     "name": "stdout",
     "output_type": "stream",
     "text": [
      "I was something peopt this pot that could he wanted a reason and a brind of the service was always \n",
      "\n"
     ]
    }
   ],
   "source": [
    "textgen.generate(1, max_gen_length=100)"
   ]
  },
  {
   "cell_type": "code",
   "execution_count": null,
   "metadata": {},
   "outputs": [],
   "source": []
  }
 ],
 "metadata": {
  "kernelspec": {
   "display_name": "Python 3",
   "language": "python",
   "name": "python3"
  },
  "language_info": {
   "codemirror_mode": {
    "name": "ipython",
    "version": 3
   },
   "file_extension": ".py",
   "mimetype": "text/x-python",
   "name": "python",
   "nbconvert_exporter": "python",
   "pygments_lexer": "ipython3",
   "version": "3.6.8"
  }
 },
 "nbformat": 4,
 "nbformat_minor": 2
}
